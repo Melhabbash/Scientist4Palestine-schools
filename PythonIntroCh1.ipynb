{
  "cells": [
    {
      "cell_type": "markdown",
      "metadata": {
        "id": "view-in-github",
        "colab_type": "text"
      },
      "source": [
        "<a href=\"https://colab.research.google.com/github/Melhabbash/Scientist4Palestine-schools/blob/main/PythonIntroCh1.ipynb\" target=\"_parent\"><img src=\"https://colab.research.google.com/assets/colab-badge.svg\" alt=\"Open In Colab\"/></a>"
      ]
    },
    {
      "cell_type": "markdown",
      "metadata": {
        "id": "Kg25uSMVIB-e"
      },
      "source": [
        "# 1. Very simple 'programs'\n",
        "## 1.1 Running Python from the command line\n",
        "In order to test pieces of code we can run Python from the command line. In this Jupyter Notebook we are going to simulate this. You can type the commands in the fields and execute them.<br>\n",
        "In the field type:<br>\n",
        "```python\n",
        "print('Hello, World')\n",
        "```\n",
        "Then press `<shift> + <return>` to execute the command.\n",
        "\n"
      ]
    },
    {
      "cell_type": "code",
      "execution_count": null,
      "metadata": {
        "id": "ebjm5KrqIB-i"
      },
      "outputs": [],
      "source": []
    },
    {
      "cell_type": "markdown",
      "metadata": {
        "id": "lh7BWRXmIB-j"
      },
      "source": [
        "What happened?\n",
        "\n",
        "You just created a program, that prints the words 'Hello, World'. The Python environment that you are in immediately compiles whatever you have typed in. This is useful for testing things, e.g. define a few variables, and then test to see if a certain line will work. That will come in a later lesson, though."
      ]
    },
    {
      "cell_type": "markdown",
      "metadata": {
        "id": "p1a8aXK6IB-j"
      },
      "source": [
        "## 1.2 Math in Python\n",
        "Type<br>\n",
        "```python\n",
        "1 + 1\n",
        "```\n",
        "and execute the code."
      ]
    },
    {
      "cell_type": "code",
      "execution_count": null,
      "metadata": {
        "scrolled": true,
        "id": "yqu_6Kh8IB-k",
        "outputId": "af4b4a16-c60f-4feb-d297-e7cc889fadf1",
        "colab": {
          "base_uri": "https://localhost:8080/"
        }
      },
      "outputs": [
        {
          "output_type": "execute_result",
          "data": {
            "text/plain": [
              "2"
            ]
          },
          "metadata": {},
          "execution_count": 1
        }
      ],
      "source": [
        "1 + 1"
      ]
    },
    {
      "cell_type": "markdown",
      "metadata": {
        "id": "v0P06sniIB-k"
      },
      "source": [
        "Now type\n",
        "```python\n",
        "20 + 80\n",
        "```\n",
        "and execute the code."
      ]
    },
    {
      "cell_type": "code",
      "execution_count": null,
      "metadata": {
        "id": "Na1NwHciIB-l",
        "colab": {
          "base_uri": "https://localhost:8080/"
        },
        "outputId": "b0b15629-e7c9-4743-a2f3-9928ef02c9a0"
      },
      "outputs": [
        {
          "output_type": "execute_result",
          "data": {
            "text/plain": [
              "100"
            ]
          },
          "metadata": {},
          "execution_count": 3
        }
      ],
      "source": [
        "20 + 80"
      ]
    },
    {
      "cell_type": "markdown",
      "metadata": {
        "id": "k6uRjnA2IB-l"
      },
      "source": [
        "These are additions. We can of course use other mathematical operators.<br>\n",
        "Try this subtraction:<br>\n",
        "```python\n",
        "6 - 5\n",
        "```"
      ]
    },
    {
      "cell_type": "code",
      "execution_count": null,
      "metadata": {
        "id": "s4wHZyNUIB-l"
      },
      "outputs": [],
      "source": []
    },
    {
      "cell_type": "markdown",
      "metadata": {
        "id": "1UgU-CpzIB-m"
      },
      "source": [
        "and this multiplication:<br>\n",
        "```python\n",
        "2 * 5\n",
        "```"
      ]
    },
    {
      "cell_type": "code",
      "execution_count": null,
      "metadata": {
        "id": "6Dhl6XQMIB-m",
        "colab": {
          "base_uri": "https://localhost:8080/"
        },
        "outputId": "64b0390c-52a5-4d0c-a982-8828ba05ce90"
      },
      "outputs": [
        {
          "output_type": "execute_result",
          "data": {
            "text/plain": [
              "12"
            ]
          },
          "metadata": {},
          "execution_count": 6
        }
      ],
      "source": [
        "2 * 6"
      ]
    },
    {
      "cell_type": "markdown",
      "metadata": {
        "id": "8ctkUzpLIB-m"
      },
      "source": [
        "Try:\n",
        "```python\n",
        "5 ** 2\n",
        "```"
      ]
    },
    {
      "cell_type": "code",
      "execution_count": null,
      "metadata": {
        "id": "dsHB4kZ9IB-m",
        "colab": {
          "base_uri": "https://localhost:8080/"
        },
        "outputId": "c672365f-1a88-4bfa-a88b-a4f9dbc9abd7"
      },
      "outputs": [
        {
          "output_type": "execute_result",
          "data": {
            "text/plain": [
              "25"
            ]
          },
          "metadata": {},
          "execution_count": 5
        }
      ],
      "source": [
        "5 ** 2"
      ]
    },
    {
      "cell_type": "markdown",
      "metadata": {
        "id": "P1CANsYpIB-m"
      },
      "source": [
        "`**` is the exponential operator, so we executed 5 squared."
      ]
    },
    {
      "cell_type": "markdown",
      "metadata": {
        "id": "EoO-N7LrIB-n"
      },
      "source": [
        "Type:\n",
        "```python\n",
        "print('1 + 2 is an addition')\n",
        "```"
      ]
    },
    {
      "cell_type": "code",
      "execution_count": null,
      "metadata": {
        "id": "Wz85cN7XIB-n",
        "colab": {
          "base_uri": "https://localhost:8080/"
        },
        "outputId": "aa2941cd-83c2-4b1a-e648-ae1f05828805"
      },
      "outputs": [
        {
          "output_type": "stream",
          "name": "stdout",
          "text": [
            "Hello World!\n"
          ]
        }
      ],
      "source": [
        "print('Hello World!')"
      ]
    },
    {
      "cell_type": "code",
      "source": [
        "print(\"Hello World!\")"
      ],
      "metadata": {
        "colab": {
          "base_uri": "https://localhost:8080/"
        },
        "id": "HDa6rIA_gu0h",
        "outputId": "9f1813d2-755c-4988-c47a-c69ff694e4b3"
      },
      "execution_count": null,
      "outputs": [
        {
          "output_type": "stream",
          "name": "stdout",
          "text": [
            "Hello World!\n"
          ]
        }
      ]
    },
    {
      "cell_type": "code",
      "source": [
        "print(\"Hello world\")"
      ],
      "metadata": {
        "colab": {
          "base_uri": "https://localhost:8080/"
        },
        "id": "6Jz0nRIXg2Gc",
        "outputId": "74589617-bec9-40c6-82c9-e3b00be0e257"
      },
      "execution_count": null,
      "outputs": [
        {
          "output_type": "stream",
          "name": "stdout",
          "text": [
            "Hello world\n"
          ]
        }
      ]
    },
    {
      "cell_type": "markdown",
      "metadata": {
        "id": "h5JQy30sIB-n"
      },
      "source": [
        "You see that the `print` statement writes something on the screen.\n",
        "\n",
        "Try this:\n",
        "```python\n",
        "print('one kilobyte is 2^10 bytes, or', 2 ** 10, 'bytes')\n",
        "```"
      ]
    },
    {
      "cell_type": "code",
      "execution_count": null,
      "metadata": {
        "id": "g-pHR19AIB-n",
        "colab": {
          "base_uri": "https://localhost:8080/"
        },
        "outputId": "0db013dd-78e2-4170-8621-532d362b7c06"
      },
      "outputs": [
        {
          "output_type": "stream",
          "name": "stdout",
          "text": [
            "one kilobyte is 2^10 bytes, or 1024 bytes\n"
          ]
        }
      ],
      "source": [
        "print('one kilobyte is 2^10 bytes, or', 2 ** 10, 'bytes')\n"
      ]
    },
    {
      "cell_type": "markdown",
      "metadata": {
        "id": "FwX2zqQSIB-n"
      },
      "source": [
        "This demonstrates that you can print text and calculations in a sentence. The commas separating each section are a way of separating strings (text) from calculations or variable."
      ]
    },
    {
      "cell_type": "markdown",
      "metadata": {
        "id": "ytJWh9nCIB-n"
      },
      "source": [
        "Now try this:\n",
        "```python\n",
        "23 / 3\n",
        "```"
      ]
    },
    {
      "cell_type": "code",
      "execution_count": null,
      "metadata": {
        "id": "Fo8oJe4LIB-n"
      },
      "outputs": [],
      "source": []
    },
    {
      "cell_type": "markdown",
      "metadata": {
        "id": "EXW7gL8bIB-n"
      },
      "source": [
        "And this:<br>\n",
        "```python\n",
        "23 % 3\n",
        "```"
      ]
    },
    {
      "cell_type": "code",
      "execution_count": null,
      "metadata": {
        "id": "8XwRqQ4WIB-o"
      },
      "outputs": [],
      "source": []
    },
    {
      "cell_type": "markdown",
      "metadata": {
        "id": "9fVH_RyJIB-o"
      },
      "source": [
        "`%` returns the remainder of the division."
      ]
    },
    {
      "cell_type": "markdown",
      "metadata": {
        "id": "EJFraG-1IB-o"
      },
      "source": [
        "## 1.3 Order of Operations"
      ]
    },
    {
      "cell_type": "markdown",
      "metadata": {
        "id": "zI89IJdyIB-o"
      },
      "source": [
        "Remember that thing called order of operation that they taught in maths? Well, it applies in Python, too. Here it is, if you need reminding:<br>\n",
        "1. Parenthesis `()`\n",
        "2. Exponents `**`\n",
        "3. Multiplication `*`, division `/` and remainder `%`\n",
        "4. Addition `+` and subtraction `-`"
      ]
    },
    {
      "cell_type": "markdown",
      "metadata": {
        "id": "cTpJFLYUIB-o"
      },
      "source": [
        "Here are some examples that you might want to try, if you're rusty on this:<br>\n",
        "```python\n",
        "1 + 2 * 3\n",
        "(1 + 2) * 3\n",
        "```"
      ]
    },
    {
      "cell_type": "code",
      "execution_count": null,
      "metadata": {
        "id": "lkbdgspmIB-o"
      },
      "outputs": [],
      "source": []
    },
    {
      "cell_type": "code",
      "execution_count": null,
      "metadata": {
        "id": "6vmWxmnkIB-o"
      },
      "outputs": [],
      "source": []
    },
    {
      "cell_type": "markdown",
      "metadata": {
        "id": "3YC_3rzjIB-o"
      },
      "source": [
        "## 1.4 Comments, Please\n",
        "The final thing you'll need to know to move on to multi-line programs is the comment. Type the following (and yes, the output is shown):\n",
        "```python\n",
        "# I am a comment. Fear my wrath!\n",
        "```"
      ]
    },
    {
      "cell_type": "code",
      "execution_count": null,
      "metadata": {
        "id": "m8XnC4y9IB-o"
      },
      "outputs": [],
      "source": [
        "# print(6)"
      ]
    },
    {
      "cell_type": "markdown",
      "metadata": {
        "id": "Cj7WmhApIB-o"
      },
      "source": [
        "A comment is a piece of code that is not run. In Python, you make something a comment by putting a hash in front of it. A hash comments everything after it in the line, and nothing before it. So you could type this:\n",
        "```python\n",
        "print(\"food is very nice\") #eat me\n",
        "```"
      ]
    },
    {
      "cell_type": "code",
      "execution_count": null,
      "metadata": {
        "id": "M2Hgxqt3IB-p"
      },
      "outputs": [],
      "source": []
    },
    {
      "cell_type": "markdown",
      "metadata": {
        "id": "QKyrdnrBIB-p"
      },
      "source": [
        "This results in a normal output, without the smutty comment, thank you very much.\n",
        "\n",
        "Now try this:\n",
        "```python\n",
        "# print(\"food is very nice\")\n",
        "```"
      ]
    },
    {
      "cell_type": "code",
      "execution_count": null,
      "metadata": {
        "id": "Q0h4nkm5IB-p"
      },
      "outputs": [],
      "source": []
    },
    {
      "cell_type": "markdown",
      "metadata": {
        "id": "RlAee52EIB-p"
      },
      "source": [
        "Nothing happens, because the code was after a comment."
      ]
    },
    {
      "cell_type": "markdown",
      "metadata": {
        "id": "0UhgcebGIB-p"
      },
      "source": [
        "Comments are important for adding necessary information for another programmer to read, but not the computer. For example, an explanation of a section of code, saying what it does, or what is wrong with it. You can also comment bits of code by putting a `#` in front of it - if you don't want it to compile, but can't delete it because you might need it later."
      ]
    },
    {
      "cell_type": "markdown",
      "metadata": {
        "id": "Fz7T4sRRIB-p"
      },
      "source": [
        "# Assignment 1\n",
        "\n",
        "Type in the cell below an expression to find out how many seconds are there in a 365-day year."
      ]
    },
    {
      "cell_type": "code",
      "execution_count": null,
      "metadata": {
        "id": "LDuwIxTKIB-p"
      },
      "outputs": [],
      "source": []
    },
    {
      "cell_type": "markdown",
      "metadata": {
        "id": "31gjJh3-IB-u"
      },
      "source": [
        "# Assignment 2\n",
        "\n",
        "The Earth can be approximated as a sphere with a radius of 6370 km. Use the cell below to find out the volume of such a shape in cubic meters."
      ]
    },
    {
      "cell_type": "code",
      "execution_count": null,
      "metadata": {
        "id": "0uOCEqv6IB-v"
      },
      "outputs": [],
      "source": []
    },
    {
      "cell_type": "markdown",
      "metadata": {
        "id": "wH6GiRR2IB-v"
      },
      "source": [
        "# Assignment 3\n",
        "\n",
        "Get the answer of the following expression, using the cell below:\n",
        "\n",
        "$$\\frac{1}{2}+\\frac{\\frac{1}{3}}{\\frac{1}{4}+\\frac{1}{5}}$$"
      ]
    },
    {
      "cell_type": "code",
      "execution_count": null,
      "metadata": {
        "id": "z1LmuUF4IB-v"
      },
      "outputs": [],
      "source": []
    }
  ],
  "metadata": {
    "kernelspec": {
      "display_name": "Python 3 (ipykernel)",
      "language": "python",
      "name": "python3"
    },
    "language_info": {
      "codemirror_mode": {
        "name": "ipython",
        "version": 3
      },
      "file_extension": ".py",
      "mimetype": "text/x-python",
      "name": "python",
      "nbconvert_exporter": "python",
      "pygments_lexer": "ipython3",
      "version": "3.11.4"
    },
    "colab": {
      "provenance": [],
      "include_colab_link": true
    }
  },
  "nbformat": 4,
  "nbformat_minor": 0
}
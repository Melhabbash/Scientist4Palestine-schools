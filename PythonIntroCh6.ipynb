{
  "cells": [
    {
      "cell_type": "markdown",
      "metadata": {
        "id": "view-in-github",
        "colab_type": "text"
      },
      "source": [
        "<a href=\"https://colab.research.google.com/github/Melhabbash/Scientist4Palestine-schools/blob/main/PythonIntroCh6.ipynb\" target=\"_parent\"><img src=\"https://colab.research.google.com/assets/colab-badge.svg\" alt=\"Open In Colab\"/></a>"
      ]
    },
    {
      "cell_type": "markdown",
      "metadata": {
        "id": "83FJnW-fq5K0"
      },
      "source": [
        "# 6. For Loop\n",
        "## 6.1 Introduction\n",
        "Well, in the first lesson about loops, I said I would put off teaching you the for loop, until we had reached lists. Well, here it is!\n",
        "## 6.2 The `for` Loop\n",
        "Basically, the `for` loop does something for every value in a list. The way it is set out is a little confusing, but otherwise is very basic. Here is an example of it in code:"
      ]
    },
    {
      "cell_type": "code",
      "execution_count": 2,
      "metadata": {
        "colab": {
          "base_uri": "https://localhost:8080/"
        },
        "id": "wXuPciRsq5K2",
        "outputId": "6dbfc1d8-8f43-4bf6-9aff-b0346a0e65c5"
      },
      "outputs": [
        {
          "output_type": "stream",
          "name": "stdout",
          "text": [
            "45\n",
            "eat me\n",
            "90210\n",
            "The day has come, the walrus said, to speak of many things\n",
            "-67\n"
          ]
        }
      ],
      "source": [
        "# Example 'for' loop\n",
        "# First, create a list to loop through:\n",
        "newList = [45, 'eat me', 90210, \"The day has come, the walrus said, \\\n",
        "to speak of many things\", -67]\n",
        "\n",
        "# create the loop:\n",
        "# Goes through newList, and sequentially puts each bit of information\n",
        "# into the variable value, and runs the loop\n",
        "for value in newList:\n",
        "    print(value)"
      ]
    },
    {
      "cell_type": "code",
      "source": [
        "mylist = [1,2,4,6,8,9,12,5]\n",
        "\n",
        "for var in mylist:\n",
        "    print(var+2)"
      ],
      "metadata": {
        "colab": {
          "base_uri": "https://localhost:8080/"
        },
        "id": "cumHpgNcrsKw",
        "outputId": "d30f9f9a-6043-4d44-f392-c27372591f6b"
      },
      "execution_count": 4,
      "outputs": [
        {
          "output_type": "stream",
          "name": "stdout",
          "text": [
            "3\n",
            "4\n",
            "6\n",
            "8\n",
            "10\n",
            "11\n",
            "14\n",
            "7\n"
          ]
        }
      ]
    },
    {
      "cell_type": "markdown",
      "metadata": {
        "id": "Onvq4XJyq5K2"
      },
      "source": [
        "As you see, when the loop executes, it runs through all of the values in the list mentioned after `in`. It then puts them into `value`, and executes through the loop, each time with value being worth something different. Let's see it again, in a classic cheerleading call that we all know:"
      ]
    },
    {
      "cell_type": "code",
      "execution_count": 5,
      "metadata": {
        "colab": {
          "base_uri": "https://localhost:8080/"
        },
        "id": "k0EjsMY5q5K3",
        "outputId": "515f8849-ee6e-4fcd-a614-2496beac9095"
      },
      "outputs": [
        {
          "output_type": "stream",
          "name": "stdout",
          "text": [
            "Who do you go for? k\n",
            "Gimme a k!\n",
            "k!\n",
            "What does that spell?\n",
            "k!\n"
          ]
        }
      ],
      "source": [
        "# cheerleading program\n",
        "word = input(\"Who do you go for? \")\n",
        "\n",
        "for letter in word:\n",
        "    call = \"Gimme a \" + letter + \"!\"\n",
        "    print(call)\n",
        "    print(letter + \"!\")\n",
        "\n",
        "print(\"What does that spell?\")\n",
        "print(word + \"!\")"
      ]
    },
    {
      "cell_type": "markdown",
      "metadata": {
        "id": "ML697hs4q5K3"
      },
      "source": [
        "A couple of things you've just learnt:\n",
        "* As you see, strings (remember - strings are lines of text) are just lists with lots of characters.\n",
        "* The program went through each of the letters (or values) in word, and it printed them onscreen.<br>"
      ]
    },
    {
      "cell_type": "markdown",
      "metadata": {
        "id": "jgeFd9qgq5K3"
      },
      "source": [
        "And that is all there is to the for loop."
      ]
    },
    {
      "cell_type": "markdown",
      "metadata": {
        "id": "d3pf1axrq5K3"
      },
      "source": [
        "## 6.3 Making a Menu Function\n",
        "Now to the business end of the lesson. Let's start writing programs. So far we have learnt variables, lists, loops, and functions. That is pretty much all we need for quite a bit of programming. So let's set ourselves a task."
      ]
    },
    {
      "cell_type": "markdown",
      "metadata": {
        "id": "Ez97lFzYq5K3"
      },
      "source": [
        "```Python\n",
        "# THE MENU FUNCTION\n",
        "# The program asks for a string with all the menu options in it,\n",
        "# and a text string asking a question.\n",
        "# make sure every menu entry is unique.\n",
        "\n",
        "def menu(list, question):\n",
        "    for entry in list:\n",
        "        print(1 + list.index(entry),end=\"\"))\n",
        "        print (\") \" + entry)\n",
        "\n",
        "    return eval(input(question)) - 1\n",
        "\n",
        "# def menu(list, question): is telling the function to\n",
        "# ask for two bits of information:\n",
        "# A list of all the menu entries,\n",
        "# and the question it will ask when all the options have been printed\n",
        "\n",
        "# for entry in list: is pretty much saying;\n",
        "#'for every entry in the list, do the following:'\n",
        "\n",
        "# print list.index(entry) + 1 uses the .index() function to find\n",
        "# where in the list the entry is in. print function then prints it\n",
        "# it adds 1 to make the numbers more intelligible.\n",
        "\n",
        "# print \") \" + entry prints a bracket, and then the entry name\n",
        "\n",
        "# after the for loop is finished, eval(input(question) - 1) asks the question,\n",
        "# and returns the value to the main program (minus 1, to turn it back to\n",
        "# the number the computer will understand).\n",
        "```"
      ]
    },
    {
      "cell_type": "markdown",
      "metadata": {
        "id": "s2UshDnCq5K4"
      },
      "source": [
        "That wasn't very difficult, was it? The actual program only took up five lines - this is the wonder of how much we have learnt so far! All my comments take up sixteen lines - more than three times the program length. It is a good idea to comment your programs extensively. Remember that if you are going to be publishing your code open-source, there are going to be a lot of people checking out the code that you have written. We'll see the function we just wrote in our first example program."
      ]
    },
    {
      "cell_type": "markdown",
      "metadata": {
        "id": "UHUDSh7Kq5K4"
      },
      "source": [
        "## 6.4 Our First 'Game'\n",
        "What will our first example program be? How about a (very) simple text adventure game? Sounds like fun! It will only encompass one room of a house, and will be extremely simple. There will be five things, and a door. In one of the five things, is a key to the door. You need to find the key, then open the door. I will give a plain-english version first, then do it in Python:<br>\n",
        "```\n",
        "#Plain-english version of our 'game'\n",
        "\n",
        "Tell the computer about our menu function\n",
        "\n",
        "Print a welcoming message, showing a description of the room.\n",
        "We will give the player six things to look at: pot plant, painting,\\\n",
        " vase, lampshade, shoe, and the door\n",
        "\n",
        "Tell the computer that the door is locked\n",
        "Tell the computer where the key is\n",
        "\n",
        "present a menu, telling you what things you can 'operate':\n",
        "    It will give you the six options\n",
        "    It will ask the question \"what will you look at?\"\n",
        "\n",
        "if the user wanted to look at:\n",
        "    pot plant:\n",
        "        If the key is here, give the player the key\n",
        "        otherwise, tell them it isn't here\n",
        "    painting:\n",
        "        same as above\n",
        "    etc.\n",
        "    door:\n",
        "        If the player has the key, let them open the door\n",
        "        Otherwise, tell them to look harder\n",
        "\n",
        "Give the player a well done message, for completing the game.\n",
        "```\n",
        "<br>\n",
        "From this, we can write a real program. Ready? Here it is:"
      ]
    },
    {
      "cell_type": "code",
      "execution_count": 7,
      "metadata": {
        "id": "dP9VPRPUq5K4",
        "outputId": "663d5156-5615-4d85-ae83-471cb0363495",
        "colab": {
          "base_uri": "https://localhost:8080/"
        }
      },
      "outputs": [
        {
          "output_type": "stream",
          "name": "stdout",
          "text": [
            "Last night you went to sleep in the comfort of your own home.\n",
            "Now, you find yourself locked in a room. You don't know how\n",
            "you got there, or what time it is. In the room you can see\n",
            "6 things:\n",
            "pot plant\n",
            "painting\n",
            "vase\n",
            "lampshade\n",
            "shoe\n",
            "door\n",
            "\n",
            "The door is locked. Could there be a key somewhere?\n",
            "1) pot plant\n",
            "2) painting\n",
            "3) vase\n",
            "4) lampshade\n",
            "5) shoe\n",
            "6) door\n",
            "What do you want to inspect? 3\n",
            "You found a small key in the vase.\n",
            "\n",
            "1) pot plant\n",
            "2) painting\n",
            "3) vase\n",
            "4) lampshade\n",
            "5) shoe\n",
            "6) door\n",
            "What do you want to inspect? 1\n",
            "You found nothing in the pot plant.\n",
            "\n",
            "1) pot plant\n",
            "2) painting\n",
            "3) vase\n",
            "4) lampshade\n",
            "5) shoe\n",
            "6) door\n",
            "What do you want to inspect? 2\n",
            "You found nothing behind the painting.\n",
            "\n",
            "1) pot plant\n",
            "2) painting\n",
            "3) vase\n",
            "4) lampshade\n",
            "5) shoe\n",
            "6) door\n",
            "What do you want to inspect? 4\n",
            "You found nothing in the lampshade.\n",
            "\n",
            "1) pot plant\n",
            "2) painting\n",
            "3) vase\n",
            "4) lampshade\n",
            "5) shoe\n",
            "6) door\n",
            "What do you want to inspect? 5\n",
            "You found nothing in the shoe.\n",
            "\n",
            "1) pot plant\n",
            "2) painting\n",
            "3) vase\n",
            "4) lampshade\n",
            "5) shoe\n",
            "6) door\n",
            "What do you want to inspect? 6\n",
            "You put in the key, turn it, and hear a click\n",
            "\n",
            "Light floods into the room as you open the door to your freedom.\n"
          ]
        }
      ],
      "source": [
        "# TEXT ADVENTURE GAME\n",
        "\n",
        "#the menu function:\n",
        "def menu(list, question):\n",
        "    for entry in list:\n",
        "        print(1 + list.index(entry),end=\"\")\n",
        "        print (\") \" + entry)\n",
        "\n",
        "    return eval(input(question)) - 1\n",
        "\n",
        "#Give the computer some basic information about the room:\n",
        "items = [\"pot plant\",\"painting\",\"vase\",\"lampshade\",\"shoe\",\"door\"]\n",
        "\n",
        "#The key is in the vase (or entry number 2 in the list above):\n",
        "keylocation = 2\n",
        "\n",
        "#You haven't found the key:\n",
        "keyfound = 0\n",
        "\n",
        "loop = 1\n",
        "\n",
        "#Give some introductary text:\n",
        "print(\"Last night you went to sleep in the comfort of your own home.\")\n",
        "\n",
        "print(\"Now, you find yourself locked in a room. You don't know how\")\n",
        "print(\"you got there, or what time it is. In the room you can see\")\n",
        "print(len(items), \"things:\")\n",
        "for x in items:\n",
        "    print(x)\n",
        "print(\"\")\n",
        "print(\"The door is locked. Could there be a key somewhere?\")\n",
        "#Get your menu working, and the program running until you find the key:\n",
        "while loop == 1:\n",
        "    choice = menu(items,\"What do you want to inspect? \")\n",
        "    if choice == 0:\n",
        "        if choice == keylocation:\n",
        "            print(\"You found a small key in the pot plant.\")\n",
        "\n",
        "            print(\"\")\n",
        "            keyfound = 1\n",
        "        else:\n",
        "            print(\"You found nothing in the pot plant.\")\n",
        "            print(\"\")\n",
        "    elif choice == 1:\n",
        "        if choice == keylocation:\n",
        "            print(\"You found a small key behind the painting.\")\n",
        "            print(\"\")\n",
        "\n",
        "            keyfound = 1\n",
        "        else:\n",
        "            print(\"You found nothing behind the painting.\")\n",
        "            print(\"\")\n",
        "    elif choice == 2:\n",
        "        if choice == keylocation:\n",
        "            print(\"You found a small key in the vase.\")\n",
        "            print(\"\")\n",
        "            keyfound = 1\n",
        "        else:\n",
        "            print(\"You found nothing in the vase.\")\n",
        "\n",
        "            print(\"\")\n",
        "    elif choice == 3:\n",
        "        if choice == keylocation:\n",
        "            print(\"You found a small key in the lampshade.\")\n",
        "            print(\"\")\n",
        "            keyfound = 1\n",
        "        else:\n",
        "            print(\"You found nothing in the lampshade.\")\n",
        "            print(\"\")\n",
        "\n",
        "    elif choice == 4:\n",
        "        if choice == keylocation:\n",
        "            print(\"You found a small key in the shoe.\")\n",
        "            print(\"\")\n",
        "            keyfound = 1\n",
        "        else:\n",
        "            print(\"You found nothing in the shoe.\")\n",
        "            print(\"\")\n",
        "    elif choice == 5:\n",
        "        if keyfound == 1:\n",
        "            loop = 0\n",
        "            print(\"You put in the key, turn it, and hear a click\")\n",
        "\n",
        "            print(\"\")\n",
        "        else:\n",
        "            print(\"The door is locked, you need to find a key.\")\n",
        "            print(\"\")\n",
        "\n",
        "# Remember that a backslash continues\n",
        "# the code on the next line\n",
        "print(\"Light floods into the room as \\\n",
        "you open the door to your freedom.\")\n"
      ]
    },
    {
      "cell_type": "markdown",
      "metadata": {
        "id": "coNeqAKaq5K4"
      },
      "source": [
        "Well, a very simple, but fun, game. Don't get daunted by the amount of code there, 53 of the lines are just the `if` statements, which is the easiest thing to read there (Once you comprehend all the indentation. Soon you'll make your own game, and you can make it as simple (or as complex) as you like. I'll post quite a few, later."
      ]
    },
    {
      "cell_type": "markdown",
      "metadata": {
        "id": "gOJsD44iq5K5"
      },
      "source": [
        "## 6.5 Making the Game Better\n",
        "The first question you should ask is \"does this program work?\". The answer here is yes. Then you should ask \"does this program work well?\" - not quite. The `menu()` function is great - it reduces a lot of typing. The `while` loop that we have, however, is a little messy - four levels of indents, for a simple program. We can do better!\n",
        "\n",
        "Now, this will become much MUCH more straightforward when we introduce classes. But that will have to wait. Until then, let's make a function that reduces our mess. It we will pass two things to it - the menu choice we made, and the location of the key. It will return one thing - whether or not the key has been found. Lets see it:\n",
        "\n",
        "```Python\n",
        "def inspect(choice,location):\n",
        "    if choice == location:\n",
        "        print(\"\")\n",
        "        print(\"You found a key!\")\n",
        "        print(\"\")\n",
        "        return 1\n",
        "    else:\n",
        "        print(\"\")\n",
        "        print(\"Nothing of interest here.\")\n",
        "        print(\"\")\n",
        "        return 0\n",
        "```\n",
        "\n",
        "\n",
        "Now the main program can be a little simpler.\n",
        "\n",
        "In the field below:\n",
        "\n",
        "1. Insert the `inspect` function\n",
        "2. Replace the `while` loop with:\n",
        "\n",
        "```Python\n",
        "while loop == 1:\n",
        "    keyfound = inspect(menu(items,\"What do you want to inspect? \"),keylocation)\n",
        "    if keyfound == 1:\n",
        "        print(\"You put the key in the lock of the door, and turn it. It opens!\")\n",
        "        loop = 0\n",
        "```"
      ]
    },
    {
      "cell_type": "code",
      "execution_count": 8,
      "metadata": {
        "id": "LOx2q_Hzq5K5",
        "outputId": "a3cf230a-649d-4302-bade-8120df0847b7",
        "colab": {
          "base_uri": "https://localhost:8080/"
        }
      },
      "outputs": [
        {
          "output_type": "stream",
          "name": "stdout",
          "text": [
            "Last night you went to sleep in the comfort of your own home.\n",
            "Now, you find yourself locked in a room. You don't know how\n",
            "you got there, or what time it is. In the room you can see\n",
            "6 things:\n",
            "pot plant\n",
            "painting\n",
            "vase\n",
            "lampshade\n",
            "shoe\n",
            "door\n",
            "\n",
            "The door is locked. Could there be a key somewhere?\n",
            "1) pot plant\n",
            "2) painting\n",
            "3) vase\n",
            "4) lampshade\n",
            "5) shoe\n",
            "6) door\n",
            "What do you want to inspect? 3\n",
            "You found a small key in the vase.\n",
            "\n",
            "1) pot plant\n",
            "2) painting\n",
            "3) vase\n",
            "4) lampshade\n",
            "5) shoe\n",
            "6) door\n",
            "What do you want to inspect? 6\n",
            "You put in the key, turn it, and hear a click\n",
            "\n",
            "Light floods into the room as you open the door to your freedom.\n"
          ]
        }
      ],
      "source": [
        "# TEXT ADVENTURE GAME\n",
        "\n",
        "#the menu function:\n",
        "def menu(list, question):\n",
        "    for entry in list:\n",
        "        print(1 + list.index(entry),end=\"\")\n",
        "        print (\") \" + entry)\n",
        "\n",
        "    return eval(input(question)) - 1\n",
        "\n",
        "#Give the computer some basic information about the room:\n",
        "items = [\"pot plant\",\"painting\",\"vase\",\"lampshade\",\"shoe\",\"door\"]\n",
        "\n",
        "#The key is in the vase (or entry number 2 in the list above):\n",
        "keylocation = 2\n",
        "\n",
        "#You haven't found the key:\n",
        "keyfound = 0\n",
        "\n",
        "loop = 1\n",
        "\n",
        "#Give some introductary text:\n",
        "print(\"Last night you went to sleep in the comfort of your own home.\")\n",
        "\n",
        "print(\"Now, you find yourself locked in a room. You don't know how\")\n",
        "print(\"you got there, or what time it is. In the room you can see\")\n",
        "print(len(items), \"things:\")\n",
        "for x in items:\n",
        "    print(x)\n",
        "print(\"\")\n",
        "print(\"The door is locked. Could there be a key somewhere?\")\n",
        "#Get your menu working, and the program running until you find the key:\n",
        "while loop == 1:\n",
        "    choice = menu(items,\"What do you want to inspect? \")\n",
        "    if choice == 0:\n",
        "        if choice == keylocation:\n",
        "            print(\"You found a small key in the pot plant.\")\n",
        "\n",
        "            print(\"\")\n",
        "            keyfound = 1\n",
        "        else:\n",
        "            print(\"You found nothing in the pot plant.\")\n",
        "            print(\"\")\n",
        "    elif choice == 1:\n",
        "        if choice == keylocation:\n",
        "            print(\"You found a small key behind the painting.\")\n",
        "            print(\"\")\n",
        "\n",
        "            keyfound = 1\n",
        "        else:\n",
        "            print(\"You found nothing behind the painting.\")\n",
        "            print(\"\")\n",
        "    elif choice == 2:\n",
        "        if choice == keylocation:\n",
        "            print(\"You found a small key in the vase.\")\n",
        "            print(\"\")\n",
        "            keyfound = 1\n",
        "        else:\n",
        "            print(\"You found nothing in the vase.\")\n",
        "\n",
        "            print(\"\")\n",
        "    elif choice == 3:\n",
        "        if choice == keylocation:\n",
        "            print(\"You found a small key in the lampshade.\")\n",
        "            print(\"\")\n",
        "            keyfound = 1\n",
        "        else:\n",
        "            print(\"You found nothing in the lampshade.\")\n",
        "            print(\"\")\n",
        "\n",
        "    elif choice == 4:\n",
        "        if choice == keylocation:\n",
        "            print(\"You found a small key in the shoe.\")\n",
        "            print(\"\")\n",
        "            keyfound = 1\n",
        "        else:\n",
        "            print(\"You found nothing in the shoe.\")\n",
        "            print(\"\")\n",
        "    elif choice == 5:\n",
        "        if keyfound == 1:\n",
        "            loop = 0\n",
        "            print(\"You put in the key, turn it, and hear a click\")\n",
        "\n",
        "            print(\"\")\n",
        "        else:\n",
        "            print(\"The door is locked, you need to find a key.\")\n",
        "            print(\"\")\n",
        "\n",
        "# Remember that a backslash continues\n",
        "# the code on the next line\n",
        "print(\"Light floods into the room as \\\n",
        "you open the door to your freedom.\")"
      ]
    },
    {
      "cell_type": "markdown",
      "metadata": {
        "id": "u9L0-JUmq5K5"
      },
      "source": [
        "Now the program becomes massively shorter - from a cumbersome 83 lines, to a very shapely 50 lines! Of course, you lose quite a bit of versatility - all the items in the room do the same thing. You automatically open the door when you find the key. The game becomes a little less interesting. It also becomes a little harder to change."
      ]
    },
    {
      "cell_type": "markdown",
      "metadata": {
        "id": "5fiE7Ylfq5K5"
      },
      "source": [
        "## 6.6 Conclusion\n",
        "Now I said you would write some programs now. Here is your chance! Your task, if you choose to accept it, is to post a better text adventure game. You can use any of the code I have given you here. Remember to check back on previous lessons we have done - they are priceless tools. Do a search for some simple text adventure games - if you find some nice, fun text adventure games, have a look at them."
      ]
    },
    {
      "cell_type": "code",
      "source": [
        "#continue\n",
        "#break"
      ],
      "metadata": {
        "id": "nCeRmegdsYLk",
        "outputId": "a4f13fc9-29c2-4d8d-c818-aff2dd1475fc",
        "colab": {
          "base_uri": "https://localhost:8080/",
          "height": 106
        }
      },
      "execution_count": 10,
      "outputs": [
        {
          "output_type": "error",
          "ename": "SyntaxError",
          "evalue": "'continue' not properly in loop (<ipython-input-10-160dd7c7a8fd>, line 1)",
          "traceback": [
            "\u001b[0;36m  File \u001b[0;32m\"<ipython-input-10-160dd7c7a8fd>\"\u001b[0;36m, line \u001b[0;32m1\u001b[0m\n\u001b[0;31m    continue\u001b[0m\n\u001b[0m    ^\u001b[0m\n\u001b[0;31mSyntaxError\u001b[0m\u001b[0;31m:\u001b[0m 'continue' not properly in loop\n"
          ]
        }
      ]
    },
    {
      "cell_type": "code",
      "source": [
        "mylist = [1,2,3,4,5,6,7,8,9,10]\n",
        "for i in mylist:\n",
        "    if i % 2 == 0:\n",
        "       print(i)"
      ],
      "metadata": {
        "colab": {
          "base_uri": "https://localhost:8080/"
        },
        "id": "DfVrpaCGsZ4a",
        "outputId": "6319ebb6-1f88-4534-e28b-dd6eab65cb40"
      },
      "execution_count": 11,
      "outputs": [
        {
          "output_type": "stream",
          "name": "stdout",
          "text": [
            "2\n",
            "4\n",
            "6\n",
            "8\n",
            "10\n"
          ]
        }
      ]
    },
    {
      "cell_type": "code",
      "source": [
        "mylist = [1,2,3,4,5,6,7,8,9,10]\n",
        "for i in mylist:\n",
        "    if i % 2 == 0:\n",
        "        continue\n",
        "    print(i)"
      ],
      "metadata": {
        "colab": {
          "base_uri": "https://localhost:8080/"
        },
        "id": "1VNS6Ksfslpw",
        "outputId": "cd13993d-7640-4a11-a20a-43c2b214d02d"
      },
      "execution_count": 12,
      "outputs": [
        {
          "output_type": "stream",
          "name": "stdout",
          "text": [
            "1\n",
            "3\n",
            "5\n",
            "7\n",
            "9\n"
          ]
        }
      ]
    },
    {
      "cell_type": "code",
      "source": [
        "mylist = [1,2,3,4,5,6,7,8,9,10]\n",
        "for i in mylist:\n",
        "    if i == 6:\n",
        "        break\n",
        "    print(i)"
      ],
      "metadata": {
        "id": "KF6JMDfiszmq",
        "outputId": "6642eb9c-9a4b-437d-f1e0-2151d444c846",
        "colab": {
          "base_uri": "https://localhost:8080/"
        }
      },
      "execution_count": 13,
      "outputs": [
        {
          "output_type": "stream",
          "name": "stdout",
          "text": [
            "1\n",
            "2\n",
            "3\n",
            "4\n",
            "5\n"
          ]
        }
      ]
    }
  ],
  "metadata": {
    "kernelspec": {
      "display_name": "Python 3 (ipykernel)",
      "language": "python",
      "name": "python3"
    },
    "language_info": {
      "codemirror_mode": {
        "name": "ipython",
        "version": 3
      },
      "file_extension": ".py",
      "mimetype": "text/x-python",
      "name": "python",
      "nbconvert_exporter": "python",
      "pygments_lexer": "ipython3",
      "version": "3.11.4"
    },
    "colab": {
      "provenance": [],
      "include_colab_link": true
    }
  },
  "nbformat": 4,
  "nbformat_minor": 0
}